{
 "cells": [
  {
   "cell_type": "code",
   "execution_count": null,
   "id": "4b5c69e2",
   "metadata": {},
   "outputs": [
    {
     "name": "stdout",
     "output_type": "stream",
     "text": [
      "The mermaid_magic extension is already loaded. To reload it, use:\n",
      "  %reload_ext mermaid_magic\n"
     ]
    }
   ],
   "source": [
    "# Load mermaid\n",
    "%load_ext mermaid_magic"
   ]
  },
  {
   "cell_type": "markdown",
   "id": "9589eafb",
   "metadata": {},
   "source": [
    "# Test"
   ]
  },
  {
   "cell_type": "code",
   "execution_count": 10,
   "id": "a57f058c",
   "metadata": {
    "tags": [
     "parameters"
    ]
   },
   "outputs": [
    {
     "data": {
      "text/html": [
       "\n",
       "    <div class=\"mermaid\">\n",
       "    graph TD;\n",
       "    A[Start] --> B{Is it sunny?};\n",
       "    B  --> C[Go outside];\n",
       "    B  --> D[Stay indoors];\n",
       "    C --> E[Have fun!];\n",
       "    D --> E;\n",
       "    E --> F[End];\n",
       "\n",
       "    </div>\n",
       "\n",
       "    <script>\n",
       "      if (typeof mermaid === 'undefined') {\n",
       "        var script = document.createElement('script');\n",
       "        script.src = \"https://cdn.jsdelivr.net/npm/mermaid/dist/mermaid.min.js\";\n",
       "        script.onload = () => mermaid.initialize({ startOnLoad: true });\n",
       "        document.head.appendChild(script);\n",
       "      } else {\n",
       "        mermaid.init();\n",
       "      }\n",
       "    </script>\n",
       "    "
      ],
      "text/plain": [
       "<IPython.core.display.HTML object>"
      ]
     },
     "metadata": {},
     "output_type": "display_data"
    }
   ],
   "source": [
    "%%mermaid # Graph example\n",
    "graph TD;\n",
    "    A[Start] --> B{Is it sunny?};\n",
    "    B  --> C[Go outside];\n",
    "    B  --> D[Stay indoors];\n",
    "    C --> E[Have fun!];\n",
    "    D --> E;\n",
    "    E --> F[End];\n"
   ]
  },
  {
   "cell_type": "markdown",
   "id": "8d9deaeb",
   "metadata": {},
   "source": [
    "## Subheading"
   ]
  },
  {
   "cell_type": "code",
   "execution_count": 1,
   "id": "d167b79e",
   "metadata": {},
   "outputs": [
    {
     "name": "stdout",
     "output_type": "stream",
     "text": [
      "Hello, World!\n"
     ]
    }
   ],
   "source": [
    "print(\"Hello, World!\")\n"
   ]
  },
  {
   "cell_type": "code",
   "execution_count": null,
   "id": "0b5a7606",
   "metadata": {},
   "outputs": [],
   "source": [
    "import random\n",
    "\n",
    "def random_string(length=8):\n",
    "    letters = 'abcdefghijklmnopqrstuvwxyz'\n",
    "    return ''.join(random.choice(letters) for _ in range(length))\n",
    "\n",
    "class Person:\n",
    "    def __init__(self, name, age):\n",
    "        self.name = name\n",
    "        self.age = age\n",
    "        self.hobbies = []\n",
    "\n",
    "    def add_hobby(self, hobby):\n",
    "        self.hobbies.append(hobby)\n",
    "\n",
    "    def __str__(self):\n",
    "        return f\"{self.name}, {self.age} years old, hobbies: {', '.join(self.hobbies)}\"\n",
    "\n",
    "people = []\n",
    "for i in range(10):\n",
    "    name = random_string()\n",
    "    age = random.randint(18, 65)\n",
    "    person = Person(name, age)\n",
    "    for _ in range(random.randint(1, 5)):\n",
    "        hobby = random.choice(['reading', 'swimming', 'cycling', 'painting', 'coding', 'hiking'])\n",
    "        person.add_hobby(hobby)\n",
    "    people.append(person)\n",
    "\n",
    "def find_oldest(people):\n",
    "    return max(people, key=lambda p: p.age)\n",
    "\n",
    "def find_youngest(people):\n",
    "    return min(people, key=lambda p: p.age)\n",
    "\n",
    "def average_age(people):\n",
    "    return sum(p.age for p in people) / len(people)\n",
    "\n",
    "def all_hobbies(people):\n",
    "    hobbies = set()\n",
    "    for p in people:\n",
    "        hobbies.update(p.hobbies)\n",
    "    return hobbies\n",
    "\n",
    "print(\"All people:\")\n",
    "for p in people:\n",
    "    print(p)\n",
    "\n",
    "print(\"\\nOldest person:\")\n",
    "print(find_oldest(people))\n",
    "\n",
    "print(\"\\nYoungest person:\")\n",
    "print(find_youngest(people))\n",
    "\n",
    "print(f\"\\nAverage age: {average_age(people):.2f}\")\n",
    "\n",
    "print(\"\\nAll hobbies among people:\")\n",
    "print(', '.join(all_hobbies(people)))\n",
    "\n",
    "# Shuffle people and print their names\n",
    "random.shuffle(people)\n",
    "print(\"\\nShuffled names:\")\n",
    "for p in people:\n",
    "    print(p.name)\n",
    "\n",
    "# Sort people by age and print\n",
    "people.sort(key=lambda p: p.age)\n",
    "print(\"\\nSorted by age:\")\n",
    "for p in people:\n",
    "    print(f\"{p.name}: {p.age}\")\n",
    "\n",
    "# Find people with 'coding' as a hobby\n",
    "coders = [p for p in people if 'coding' in p.hobbies]\n",
    "print(\"\\nPeople who like coding:\")\n",
    "for p in coders:\n",
    "    print(p.name)"
   ]
  },
  {
   "cell_type": "code",
   "execution_count": null,
   "id": "891730bd",
   "metadata": {},
   "outputs": [],
   "source": []
  }
 ],
 "metadata": {
  "kernelspec": {
   "display_name": "Python 3",
   "language": "python",
   "name": "python3"
  },
  "language_info": {
   "codemirror_mode": {
    "name": "ipython",
    "version": 3
   },
   "file_extension": ".py",
   "mimetype": "text/x-python",
   "name": "python",
   "nbconvert_exporter": "python",
   "pygments_lexer": "ipython3",
   "version": "3.13.7"
  }
 },
 "nbformat": 4,
 "nbformat_minor": 5
}
